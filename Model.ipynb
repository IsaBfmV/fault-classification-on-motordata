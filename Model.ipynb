{
 "cells": [
  {
   "cell_type": "code",
   "id": "initial_id",
   "metadata": {
    "collapsed": true,
    "ExecuteTime": {
     "end_time": "2025-06-04T17:31:02.431791Z",
     "start_time": "2025-06-04T17:31:02.428301Z"
    }
   },
   "source": [
    "\n",
    "# ===============================================\n",
    "# DC Motor Fehlerklassifizierung\n",
    "# ===============================================\n",
    "\n",
    "# 1. Benötigte Bibliotheken importieren\n",
    "import pandas as pd\n",
    "import numpy as np\n",
    "import tensorflow as tf\n",
    "from tensorflow import keras\n",
    "from tensorflow.keras import layers\n",
    "from tensorflow.keras import callbacks\n",
    "from sklearn.model_selection import train_test_split\n",
    "from sklearn.preprocessing import StandardScaler\n",
    "from sklearn.metrics import classification_report, confusion_matrix\n",
    "import matplotlib.pyplot as plt\n",
    "\n",
    "#Versionen ausgeben, um die korrekte Installation zu verifizieren\n",
    "if __name__ == \"__main__\":\n",
    "    print(\"pandas    version:\", pd.__version__)\n",
    "    print(\"numpy     version:\", np.__version__)\n",
    "    print(\"tensorflow version:\", tf.__version__)\n",
    "    try:\n",
    "        import sklearn\n",
    "        print(\"scikit-learn version:\", sklearn.__version__)\n",
    "    except ImportError:\n",
    "        print(\"scikit-learn ist nicht installiert.\")\n",
    "    print(\"matplotlib version:\", plt.matplotlib.__version__)\n",
    "\n"
   ],
   "outputs": [
    {
     "name": "stdout",
     "output_type": "stream",
     "text": [
      "pandas    version: 2.2.3\n",
      "numpy     version: 2.1.3\n",
      "tensorflow version: 2.19.0\n",
      "scikit-learn version: 1.6.1\n",
      "matplotlib version: 3.10.3\n"
     ]
    }
   ],
   "execution_count": 17
  },
  {
   "metadata": {
    "ExecuteTime": {
     "end_time": "2025-06-04T17:31:02.534047Z",
     "start_time": "2025-06-04T17:31:02.441934Z"
    }
   },
   "cell_type": "code",
   "source": [
    "# --------------------------------------------------\n",
    "# 2. Daten laden\n",
    "# --------------------------------------------------\n",
    "file_path = \"dc_motor_data.csv\"\n",
    "data = pd.read_csv(file_path)\n",
    "\n",
    "# Erste Einträge anzeigen (optional)\n",
    "print(\"\\nErste Datenzeilen:\")\n",
    "print(data.head())\n",
    "\n",
    "# Überprüfen auf fehlende Werte\n",
    "print(\"\\nAnzahl fehlender Werte pro Spalte:\")\n",
    "print(data.isnull().sum())"
   ],
   "id": "31e85e3a62725d8",
   "outputs": [
    {
     "name": "stdout",
     "output_type": "stream",
     "text": [
      "\n",
      "Erste Datenzeilen:\n",
      "             V1            V2        V3            V4            V5  \\\n",
      "0  2.913200e-06 -5.247700e-06  0.000003 -6.056100e-06  2.778900e-06   \n",
      "1 -9.584900e-07  5.214300e-08 -0.000047  6.453700e-07 -2.304100e-06   \n",
      "2 -2.566600e-06 -1.679500e-07  0.000015 -1.598400e-06  8.709200e-07   \n",
      "3  2.825600e-06  6.067600e-06  0.000118 -4.347500e-06  1.492300e-06   \n",
      "4 -6.573800e-07 -3.951900e-07  0.000032 -5.296100e-06 -1.605800e-06   \n",
      "\n",
      "             V6        V7        V8        V9       V10  ...      V40  \\\n",
      "0 -3.752400e-06  0.030804  0.030810  0.030806 -0.033520  ... -0.59314   \n",
      "1  5.499900e-05  0.031154  0.031154  0.031201 -0.032789  ... -0.61124   \n",
      "2  1.496100e-05  0.031071  0.031071  0.031056 -0.029695  ... -0.63618   \n",
      "3 -2.917100e-06  0.030947  0.030941  0.030823 -0.032171  ... -0.58170   \n",
      "4  7.566000e-07  0.029416  0.029416  0.029385 -0.028420  ... -0.59578   \n",
      "\n",
      "       V41      V42     V43     V44     V45     V46     V47     V48  class  \n",
      "0   7.6252   6.1690 -1.4967 -1.4967 -1.4967 -1.5005 -1.5005 -1.5005      1  \n",
      "1   5.8337  18.6970 -1.4956 -1.4956 -1.4956 -1.4973 -1.4972 -1.4973      1  \n",
      "2  12.8380   4.9079 -1.4990 -1.4990 -1.4990 -1.4968 -1.4968 -1.4968      1  \n",
      "3   2.0511   8.8939 -1.4963 -1.4963 -1.4963 -1.4943 -1.4943 -1.4943      1  \n",
      "4   5.3394  13.3550 -1.4984 -1.4984 -1.4984 -1.4970 -1.4970 -1.4970      1  \n",
      "\n",
      "[5 rows x 49 columns]\n",
      "\n",
      "Anzahl fehlender Werte pro Spalte:\n",
      "V1       0\n",
      "V2       0\n",
      "V3       0\n",
      "V4       0\n",
      "V5       0\n",
      "V6       0\n",
      "V7       0\n",
      "V8       0\n",
      "V9       0\n",
      "V10      0\n",
      "V11      0\n",
      "V12      0\n",
      "V13      0\n",
      "V14      0\n",
      "V15      0\n",
      "V16      0\n",
      "V17      0\n",
      "V18      0\n",
      "V19      0\n",
      "V20      0\n",
      "V21      0\n",
      "V22      0\n",
      "V23      0\n",
      "V24      0\n",
      "V25      0\n",
      "V26      0\n",
      "V27      0\n",
      "V28      0\n",
      "V29      0\n",
      "V30      0\n",
      "V31      0\n",
      "V32      0\n",
      "V33      0\n",
      "V34      0\n",
      "V35      0\n",
      "V36      0\n",
      "V37      0\n",
      "V38      0\n",
      "V39      0\n",
      "V40      0\n",
      "V41      0\n",
      "V42      0\n",
      "V43      0\n",
      "V44      0\n",
      "V45      0\n",
      "V46      0\n",
      "V47      0\n",
      "V48      0\n",
      "class    0\n",
      "dtype: int64\n"
     ]
    }
   ],
   "execution_count": 18
  },
  {
   "metadata": {
    "ExecuteTime": {
     "end_time": "2025-06-04T17:31:02.565752Z",
     "start_time": "2025-06-04T17:31:02.548819Z"
    }
   },
   "cell_type": "code",
   "source": [
    "from sklearn.preprocessing import LabelEncoder\n",
    "\n",
    "# --------------------------------------------------\n",
    "# 3. Features und Labels definieren\n",
    "# --------------------------------------------------\n",
    "# Annahme: Die letzte Spalte heißt \"Class\" und enthält die Klassenlabels (1 = fehlerfrei, andere Werte = Fehlerklassen)\n",
    "X = data.iloc[:, :-1].values  # Alle Spalten außer der letzten\n",
    "raw_y = data.iloc[:, -1].values   # Letzte Spalte als Klassenlabel\n",
    "\n",
    "label_encoder = LabelEncoder()\n",
    "y = label_encoder.fit_transform(raw_y)\n",
    "print(\"Mapping Klassen -> Indizes:\", dict(zip(label_encoder.classes_, label_encoder.transform(label_encoder.classes_))))\n",
    "print(\"Einzigartige Labels nach Encoding:\", np.unique(y))\n",
    "\n",
    "\n",
    "# Train-Test-Split (80% Training, 20% Test)\n",
    "X_train, X_test, y_train, y_test = train_test_split(\n",
    "    X, y, test_size=0.2, random_state=42\n",
    ")"
   ],
   "id": "d0d824e836c2f931",
   "outputs": [
    {
     "name": "stdout",
     "output_type": "stream",
     "text": [
      "Mapping Klassen -> Indizes: {np.int64(1): np.int64(0), np.int64(2): np.int64(1), np.int64(3): np.int64(2), np.int64(4): np.int64(3), np.int64(5): np.int64(4), np.int64(6): np.int64(5), np.int64(7): np.int64(6), np.int64(8): np.int64(7), np.int64(9): np.int64(8), np.int64(10): np.int64(9), np.int64(11): np.int64(10)}\n",
      "Einzigartige Labels nach Encoding: [ 0  1  2  3  4  5  6  7  8  9 10]\n"
     ]
    }
   ],
   "execution_count": 19
  },
  {
   "metadata": {
    "ExecuteTime": {
     "end_time": "2025-06-04T17:31:02.591985Z",
     "start_time": "2025-06-04T17:31:02.575285Z"
    }
   },
   "cell_type": "code",
   "source": [
    "# --------------------------------------------------\n",
    "# 4. Merkmale standardisieren\n",
    "# --------------------------------------------------\n",
    "scaler = StandardScaler()\n",
    "X_train = scaler.fit_transform(X_train)\n",
    "X_test = scaler.transform(X_test)"
   ],
   "id": "4f5d92a6ef5e2fa",
   "outputs": [],
   "execution_count": 20
  },
  {
   "metadata": {
    "ExecuteTime": {
     "end_time": "2025-06-04T17:31:02.603912Z",
     "start_time": "2025-06-04T17:31:02.600719Z"
    }
   },
   "cell_type": "code",
   "source": [
    "# --------------------------------------------------\n",
    "# 5. Anzahl der Klassen bestimmen\n",
    "# --------------------------------------------------\n",
    "num_classes = len(np.unique(y))\n",
    "print(f\"\\nAnzahl der Klassen: {num_classes}\")"
   ],
   "id": "6cd78f596b9bc325",
   "outputs": [
    {
     "name": "stdout",
     "output_type": "stream",
     "text": [
      "\n",
      "Anzahl der Klassen: 11\n"
     ]
    }
   ],
   "execution_count": 21
  },
  {
   "metadata": {
    "ExecuteTime": {
     "end_time": "2025-06-04T17:31:02.643430Z",
     "start_time": "2025-06-04T17:31:02.613193Z"
    }
   },
   "cell_type": "code",
   "source": [
    "# --------------------------------------------------\n",
    "# 6. Modell erstellen\n",
    "# --------------------------------------------------\n",
    "model = keras.Sequential([\n",
    "    layers.Input(shape=(X_train.shape[1],)),\n",
    "    layers.Dense(128, activation='relu'),\n",
    "    layers.Dropout(0.3),\n",
    "    layers.Dense(64, activation='relu'),\n",
    "    layers.Dropout(0.3),\n",
    "    layers.Dense(32, activation='relu'),\n",
    "    layers.Dropout(0.3),\n",
    "    layers.Dense(num_classes, activation='softmax')\n",
    "])\n",
    "\n",
    "model.compile(\n",
    "    optimizer=\"adam\",\n",
    "    loss=\"sparse_categorical_crossentropy\",\n",
    "    metrics=[\"accuracy\"]\n",
    ")\n",
    "\n",
    "print(\"\\nModellübersicht:\")\n",
    "model.summary()"
   ],
   "id": "f0c8fb35453099e6",
   "outputs": [
    {
     "name": "stdout",
     "output_type": "stream",
     "text": [
      "\n",
      "Modellübersicht:\n"
     ]
    },
    {
     "data": {
      "text/plain": [
       "\u001B[1mModel: \"sequential_3\"\u001B[0m\n"
      ],
      "text/html": [
       "<pre style=\"white-space:pre;overflow-x:auto;line-height:normal;font-family:Menlo,'DejaVu Sans Mono',consolas,'Courier New',monospace\"><span style=\"font-weight: bold\">Model: \"sequential_3\"</span>\n",
       "</pre>\n"
      ]
     },
     "metadata": {},
     "output_type": "display_data"
    },
    {
     "data": {
      "text/plain": [
       "┏━━━━━━━━━━━━━━━━━━━━━━━━━━━━━━━━━┳━━━━━━━━━━━━━━━━━━━━━━━━┳━━━━━━━━━━━━━━━┓\n",
       "┃\u001B[1m \u001B[0m\u001B[1mLayer (type)                   \u001B[0m\u001B[1m \u001B[0m┃\u001B[1m \u001B[0m\u001B[1mOutput Shape          \u001B[0m\u001B[1m \u001B[0m┃\u001B[1m \u001B[0m\u001B[1m      Param #\u001B[0m\u001B[1m \u001B[0m┃\n",
       "┡━━━━━━━━━━━━━━━━━━━━━━━━━━━━━━━━━╇━━━━━━━━━━━━━━━━━━━━━━━━╇━━━━━━━━━━━━━━━┩\n",
       "│ dense_9 (\u001B[38;5;33mDense\u001B[0m)                 │ (\u001B[38;5;45mNone\u001B[0m, \u001B[38;5;34m128\u001B[0m)            │         \u001B[38;5;34m6,272\u001B[0m │\n",
       "├─────────────────────────────────┼────────────────────────┼───────────────┤\n",
       "│ dropout (\u001B[38;5;33mDropout\u001B[0m)               │ (\u001B[38;5;45mNone\u001B[0m, \u001B[38;5;34m128\u001B[0m)            │             \u001B[38;5;34m0\u001B[0m │\n",
       "├─────────────────────────────────┼────────────────────────┼───────────────┤\n",
       "│ dense_10 (\u001B[38;5;33mDense\u001B[0m)                │ (\u001B[38;5;45mNone\u001B[0m, \u001B[38;5;34m64\u001B[0m)             │         \u001B[38;5;34m8,256\u001B[0m │\n",
       "├─────────────────────────────────┼────────────────────────┼───────────────┤\n",
       "│ dropout_1 (\u001B[38;5;33mDropout\u001B[0m)             │ (\u001B[38;5;45mNone\u001B[0m, \u001B[38;5;34m64\u001B[0m)             │             \u001B[38;5;34m0\u001B[0m │\n",
       "├─────────────────────────────────┼────────────────────────┼───────────────┤\n",
       "│ dense_11 (\u001B[38;5;33mDense\u001B[0m)                │ (\u001B[38;5;45mNone\u001B[0m, \u001B[38;5;34m32\u001B[0m)             │         \u001B[38;5;34m2,080\u001B[0m │\n",
       "├─────────────────────────────────┼────────────────────────┼───────────────┤\n",
       "│ dropout_2 (\u001B[38;5;33mDropout\u001B[0m)             │ (\u001B[38;5;45mNone\u001B[0m, \u001B[38;5;34m32\u001B[0m)             │             \u001B[38;5;34m0\u001B[0m │\n",
       "├─────────────────────────────────┼────────────────────────┼───────────────┤\n",
       "│ dense_12 (\u001B[38;5;33mDense\u001B[0m)                │ (\u001B[38;5;45mNone\u001B[0m, \u001B[38;5;34m11\u001B[0m)             │           \u001B[38;5;34m363\u001B[0m │\n",
       "└─────────────────────────────────┴────────────────────────┴───────────────┘\n"
      ],
      "text/html": [
       "<pre style=\"white-space:pre;overflow-x:auto;line-height:normal;font-family:Menlo,'DejaVu Sans Mono',consolas,'Courier New',monospace\">┏━━━━━━━━━━━━━━━━━━━━━━━━━━━━━━━━━┳━━━━━━━━━━━━━━━━━━━━━━━━┳━━━━━━━━━━━━━━━┓\n",
       "┃<span style=\"font-weight: bold\"> Layer (type)                    </span>┃<span style=\"font-weight: bold\"> Output Shape           </span>┃<span style=\"font-weight: bold\">       Param # </span>┃\n",
       "┡━━━━━━━━━━━━━━━━━━━━━━━━━━━━━━━━━╇━━━━━━━━━━━━━━━━━━━━━━━━╇━━━━━━━━━━━━━━━┩\n",
       "│ dense_9 (<span style=\"color: #0087ff; text-decoration-color: #0087ff\">Dense</span>)                 │ (<span style=\"color: #00d7ff; text-decoration-color: #00d7ff\">None</span>, <span style=\"color: #00af00; text-decoration-color: #00af00\">128</span>)            │         <span style=\"color: #00af00; text-decoration-color: #00af00\">6,272</span> │\n",
       "├─────────────────────────────────┼────────────────────────┼───────────────┤\n",
       "│ dropout (<span style=\"color: #0087ff; text-decoration-color: #0087ff\">Dropout</span>)               │ (<span style=\"color: #00d7ff; text-decoration-color: #00d7ff\">None</span>, <span style=\"color: #00af00; text-decoration-color: #00af00\">128</span>)            │             <span style=\"color: #00af00; text-decoration-color: #00af00\">0</span> │\n",
       "├─────────────────────────────────┼────────────────────────┼───────────────┤\n",
       "│ dense_10 (<span style=\"color: #0087ff; text-decoration-color: #0087ff\">Dense</span>)                │ (<span style=\"color: #00d7ff; text-decoration-color: #00d7ff\">None</span>, <span style=\"color: #00af00; text-decoration-color: #00af00\">64</span>)             │         <span style=\"color: #00af00; text-decoration-color: #00af00\">8,256</span> │\n",
       "├─────────────────────────────────┼────────────────────────┼───────────────┤\n",
       "│ dropout_1 (<span style=\"color: #0087ff; text-decoration-color: #0087ff\">Dropout</span>)             │ (<span style=\"color: #00d7ff; text-decoration-color: #00d7ff\">None</span>, <span style=\"color: #00af00; text-decoration-color: #00af00\">64</span>)             │             <span style=\"color: #00af00; text-decoration-color: #00af00\">0</span> │\n",
       "├─────────────────────────────────┼────────────────────────┼───────────────┤\n",
       "│ dense_11 (<span style=\"color: #0087ff; text-decoration-color: #0087ff\">Dense</span>)                │ (<span style=\"color: #00d7ff; text-decoration-color: #00d7ff\">None</span>, <span style=\"color: #00af00; text-decoration-color: #00af00\">32</span>)             │         <span style=\"color: #00af00; text-decoration-color: #00af00\">2,080</span> │\n",
       "├─────────────────────────────────┼────────────────────────┼───────────────┤\n",
       "│ dropout_2 (<span style=\"color: #0087ff; text-decoration-color: #0087ff\">Dropout</span>)             │ (<span style=\"color: #00d7ff; text-decoration-color: #00d7ff\">None</span>, <span style=\"color: #00af00; text-decoration-color: #00af00\">32</span>)             │             <span style=\"color: #00af00; text-decoration-color: #00af00\">0</span> │\n",
       "├─────────────────────────────────┼────────────────────────┼───────────────┤\n",
       "│ dense_12 (<span style=\"color: #0087ff; text-decoration-color: #0087ff\">Dense</span>)                │ (<span style=\"color: #00d7ff; text-decoration-color: #00d7ff\">None</span>, <span style=\"color: #00af00; text-decoration-color: #00af00\">11</span>)             │           <span style=\"color: #00af00; text-decoration-color: #00af00\">363</span> │\n",
       "└─────────────────────────────────┴────────────────────────┴───────────────┘\n",
       "</pre>\n"
      ]
     },
     "metadata": {},
     "output_type": "display_data"
    },
    {
     "data": {
      "text/plain": [
       "\u001B[1m Total params: \u001B[0m\u001B[38;5;34m16,971\u001B[0m (66.29 KB)\n"
      ],
      "text/html": [
       "<pre style=\"white-space:pre;overflow-x:auto;line-height:normal;font-family:Menlo,'DejaVu Sans Mono',consolas,'Courier New',monospace\"><span style=\"font-weight: bold\"> Total params: </span><span style=\"color: #00af00; text-decoration-color: #00af00\">16,971</span> (66.29 KB)\n",
       "</pre>\n"
      ]
     },
     "metadata": {},
     "output_type": "display_data"
    },
    {
     "data": {
      "text/plain": [
       "\u001B[1m Trainable params: \u001B[0m\u001B[38;5;34m16,971\u001B[0m (66.29 KB)\n"
      ],
      "text/html": [
       "<pre style=\"white-space:pre;overflow-x:auto;line-height:normal;font-family:Menlo,'DejaVu Sans Mono',consolas,'Courier New',monospace\"><span style=\"font-weight: bold\"> Trainable params: </span><span style=\"color: #00af00; text-decoration-color: #00af00\">16,971</span> (66.29 KB)\n",
       "</pre>\n"
      ]
     },
     "metadata": {},
     "output_type": "display_data"
    },
    {
     "data": {
      "text/plain": [
       "\u001B[1m Non-trainable params: \u001B[0m\u001B[38;5;34m0\u001B[0m (0.00 B)\n"
      ],
      "text/html": [
       "<pre style=\"white-space:pre;overflow-x:auto;line-height:normal;font-family:Menlo,'DejaVu Sans Mono',consolas,'Courier New',monospace\"><span style=\"font-weight: bold\"> Non-trainable params: </span><span style=\"color: #00af00; text-decoration-color: #00af00\">0</span> (0.00 B)\n",
       "</pre>\n"
      ]
     },
     "metadata": {},
     "output_type": "display_data"
    }
   ],
   "execution_count": 22
  },
  {
   "metadata": {
    "ExecuteTime": {
     "end_time": "2025-06-04T17:31:10.269151Z",
     "start_time": "2025-06-04T17:31:02.655956Z"
    }
   },
   "cell_type": "code",
   "source": [
    "# --------------------------------------------------\n",
    "# 7. Modell trainieren\n",
    "# --------------------------------------------------\n",
    "epochs = 30\n",
    "batch_size = 32\n",
    "\n",
    "early_stop = callbacks.EarlyStopping(\n",
    "    monitor='val_loss',\n",
    "    patience=5,               # Wenn sich val_loss 5 Epochen lang nicht verbessert, stoppen\n",
    "    restore_best_weights=True # Nach Stoppen die Gewichte der besten Epoche wiederherstellen\n",
    ")\n",
    "\n",
    "history = model.fit(\n",
    "    X_train, y_train,\n",
    "    validation_split=0.2,\n",
    "    epochs=epochs,\n",
    "    batch_size=batch_size,\n",
    "    callbacks=[early_stop]\n",
    ")"
   ],
   "id": "a6aadc75e8150d38",
   "outputs": [
    {
     "name": "stdout",
     "output_type": "stream",
     "text": [
      "Epoch 1/30\n",
      "\u001B[1m586/586\u001B[0m \u001B[32m━━━━━━━━━━━━━━━━━━━━\u001B[0m\u001B[37m\u001B[0m \u001B[1m1s\u001B[0m 954us/step - accuracy: 0.2768 - loss: 1.9142 - val_accuracy: 0.7887 - val_loss: 0.6447\n",
      "Epoch 2/30\n",
      "\u001B[1m586/586\u001B[0m \u001B[32m━━━━━━━━━━━━━━━━━━━━\u001B[0m\u001B[37m\u001B[0m \u001B[1m1s\u001B[0m 857us/step - accuracy: 0.6731 - loss: 0.8130 - val_accuracy: 0.8789 - val_loss: 0.3993\n",
      "Epoch 3/30\n",
      "\u001B[1m586/586\u001B[0m \u001B[32m━━━━━━━━━━━━━━━━━━━━\u001B[0m\u001B[37m\u001B[0m \u001B[1m0s\u001B[0m 821us/step - accuracy: 0.7740 - loss: 0.5541 - val_accuracy: 0.9210 - val_loss: 0.3555\n",
      "Epoch 4/30\n",
      "\u001B[1m586/586\u001B[0m \u001B[32m━━━━━━━━━━━━━━━━━━━━\u001B[0m\u001B[37m\u001B[0m \u001B[1m0s\u001B[0m 808us/step - accuracy: 0.8272 - loss: 0.4473 - val_accuracy: 0.9357 - val_loss: 0.2906\n",
      "Epoch 5/30\n",
      "\u001B[1m586/586\u001B[0m \u001B[32m━━━━━━━━━━━━━━━━━━━━\u001B[0m\u001B[37m\u001B[0m \u001B[1m0s\u001B[0m 815us/step - accuracy: 0.8537 - loss: 0.3807 - val_accuracy: 0.9391 - val_loss: 0.2923\n",
      "Epoch 6/30\n",
      "\u001B[1m586/586\u001B[0m \u001B[32m━━━━━━━━━━━━━━━━━━━━\u001B[0m\u001B[37m\u001B[0m \u001B[1m0s\u001B[0m 782us/step - accuracy: 0.8749 - loss: 0.3316 - val_accuracy: 0.9477 - val_loss: 0.3006\n",
      "Epoch 7/30\n",
      "\u001B[1m586/586\u001B[0m \u001B[32m━━━━━━━━━━━━━━━━━━━━\u001B[0m\u001B[37m\u001B[0m \u001B[1m0s\u001B[0m 822us/step - accuracy: 0.8932 - loss: 0.3132 - val_accuracy: 0.9504 - val_loss: 0.2598\n",
      "Epoch 8/30\n",
      "\u001B[1m586/586\u001B[0m \u001B[32m━━━━━━━━━━━━━━━━━━━━\u001B[0m\u001B[37m\u001B[0m \u001B[1m1s\u001B[0m 834us/step - accuracy: 0.8992 - loss: 0.2756 - val_accuracy: 0.9539 - val_loss: 0.2680\n",
      "Epoch 9/30\n",
      "\u001B[1m586/586\u001B[0m \u001B[32m━━━━━━━━━━━━━━━━━━━━\u001B[0m\u001B[37m\u001B[0m \u001B[1m0s\u001B[0m 800us/step - accuracy: 0.9080 - loss: 0.2696 - val_accuracy: 0.9511 - val_loss: 0.2540\n",
      "Epoch 10/30\n",
      "\u001B[1m586/586\u001B[0m \u001B[32m━━━━━━━━━━━━━━━━━━━━\u001B[0m\u001B[37m\u001B[0m \u001B[1m0s\u001B[0m 804us/step - accuracy: 0.9129 - loss: 0.2505 - val_accuracy: 0.9577 - val_loss: 0.2913\n",
      "Epoch 11/30\n",
      "\u001B[1m586/586\u001B[0m \u001B[32m━━━━━━━━━━━━━━━━━━━━\u001B[0m\u001B[37m\u001B[0m \u001B[1m0s\u001B[0m 793us/step - accuracy: 0.9223 - loss: 0.2332 - val_accuracy: 0.9594 - val_loss: 0.2767\n",
      "Epoch 12/30\n",
      "\u001B[1m586/586\u001B[0m \u001B[32m━━━━━━━━━━━━━━━━━━━━\u001B[0m\u001B[37m\u001B[0m \u001B[1m0s\u001B[0m 788us/step - accuracy: 0.9265 - loss: 0.2199 - val_accuracy: 0.9688 - val_loss: 0.2766\n",
      "Epoch 13/30\n",
      "\u001B[1m586/586\u001B[0m \u001B[32m━━━━━━━━━━━━━━━━━━━━\u001B[0m\u001B[37m\u001B[0m \u001B[1m1s\u001B[0m 861us/step - accuracy: 0.9319 - loss: 0.2042 - val_accuracy: 0.9680 - val_loss: 0.2611\n",
      "Epoch 14/30\n",
      "\u001B[1m586/586\u001B[0m \u001B[32m━━━━━━━━━━━━━━━━━━━━\u001B[0m\u001B[37m\u001B[0m \u001B[1m1s\u001B[0m 840us/step - accuracy: 0.9358 - loss: 0.2067 - val_accuracy: 0.9671 - val_loss: 0.2685\n"
     ]
    }
   ],
   "execution_count": 23
  },
  {
   "metadata": {
    "ExecuteTime": {
     "end_time": "2025-06-04T17:31:10.397156Z",
     "start_time": "2025-06-04T17:31:10.277453Z"
    }
   },
   "cell_type": "code",
   "source": [
    "# --------------------------------------------------\n",
    "# 8. Trainingsverlauf visualisieren\n",
    "# --------------------------------------------------\n",
    "plt.figure(figsize=(12, 5))\n",
    "\n",
    "# Genauigkeit\n",
    "plt.subplot(1, 2, 1)\n",
    "plt.plot(history.history[\"accuracy\"], label=\"train_accuracy\")\n",
    "plt.plot(history.history[\"val_accuracy\"], label=\"val_accuracy\")\n",
    "plt.xlabel(\"Epoche\")\n",
    "plt.ylabel(\"Genauigkeit\")\n",
    "plt.legend()\n",
    "plt.title(\"ModellAccuracy\")\n",
    "\n",
    "# Verlust\n",
    "plt.subplot(1, 2, 2)\n",
    "plt.plot(history.history[\"loss\"], label=\"train_loss\")\n",
    "plt.plot(history.history[\"val_loss\"], label=\"val_loss\")\n",
    "plt.xlabel(\"Epoche\")\n",
    "plt.ylabel(\"Loss\")\n",
    "plt.legend()\n",
    "plt.title(\"ModellLoss\")\n",
    "\n",
    "plt.tight_layout()\n",
    "plt.show()"
   ],
   "id": "2018633a1c1c36e0",
   "outputs": [
    {
     "data": {
      "text/plain": [
       "<Figure size 1200x500 with 2 Axes>"
      ],
      "image/png": "[encoded data removed]"
     },
     "metadata": {},
     "output_type": "display_data"
    }
   ],
   "execution_count": 24
  },
  {
   "metadata": {
    "ExecuteTime": {
     "end_time": "2025-06-04T17:31:10.547502Z",
     "start_time": "2025-06-04T17:31:10.407276Z"
    }
   },
   "cell_type": "code",
   "source": [
    "# --------------------------------------------------\n",
    "# 9. Modell auf Testdaten evaluieren\n",
    "# --------------------------------------------------\n",
    "test_loss, test_accuracy = model.evaluate(X_test, y_test)\n",
    "print(f\"\\nTestverlust: {test_loss:.4f}\")\n",
    "print(f\"Testgenauigkeit: {test_accuracy:.4f}\")\n"
   ],
   "id": "1ca05c20b7ef83ca",
   "outputs": [
    {
     "name": "stdout",
     "output_type": "stream",
     "text": [
      "\u001B[1m183/183\u001B[0m \u001B[32m━━━━━━━━━━━━━━━━━━━━\u001B[0m\u001B[37m\u001B[0m \u001B[1m0s\u001B[0m 561us/step - accuracy: 0.9490 - loss: 0.1532\n",
      "\n",
      "Testverlust: 0.1469\n",
      "Testgenauigkeit: 0.9547\n"
     ]
    }
   ],
   "execution_count": 25
  },
  {
   "metadata": {
    "ExecuteTime": {
     "end_time": "2025-06-04T17:31:10.723185Z",
     "start_time": "2025-06-04T17:31:10.557519Z"
    }
   },
   "cell_type": "code",
   "source": [
    "# --------------------------------------------------\n",
    "# 10. Vorhersagen und Klassifikationsbericht\n",
    "# --------------------------------------------------\n",
    "y_pred_probs = model.predict(X_test)\n",
    "y_pred = np.argmax(y_pred_probs, axis=1)\n",
    "\n",
    "print(\"\\nKonfusionsmatrix:\")\n",
    "print(confusion_matrix(y_test, y_pred))\n",
    "\n",
    "print(\"\\nKlassifikationsbericht:\")\n",
    "print(classification_report(y_test, y_pred))"
   ],
   "id": "487332aca05285e3",
   "outputs": [
    {
     "name": "stdout",
     "output_type": "stream",
     "text": [
      "\u001B[1m183/183\u001B[0m \u001B[32m━━━━━━━━━━━━━━━━━━━━\u001B[0m\u001B[37m\u001B[0m \u001B[1m0s\u001B[0m 515us/step\n",
      "\n",
      "Konfusionsmatrix:\n",
      "[[481   0   0   0   0   2   0   0   1   0   0]\n",
      " [  1 505   0   0   0   0   0   0   1  21   0]\n",
      " [  0   0 529   0   2   0   0   0   0   0   0]\n",
      " [  0   0   0 531   2   0   5   0   0   0   0]\n",
      " [  0   0   7   6 520   0   0  19   0   0   0]\n",
      " [ 17   0   0   0   0 501   0   0  28   0   0]\n",
      " [  0   0   0   0   0   0 501   0   0   0   0]\n",
      " [  0   0   0   0  28   2   1 489   0   0   0]\n",
      " [  1   1   0   0   0  24   0   0 548   0   0]\n",
      " [  0  96   0   0   0   0   0   0   0 456   0]\n",
      " [  0   0   0   0   0   0   0   0   0   0 525]]\n",
      "\n",
      "Klassifikationsbericht:\n",
      "              precision    recall  f1-score   support\n",
      "\n",
      "           0       0.96      0.99      0.98       484\n",
      "           1       0.84      0.96      0.89       528\n",
      "           2       0.99      1.00      0.99       531\n",
      "           3       0.99      0.99      0.99       538\n",
      "           4       0.94      0.94      0.94       552\n",
      "           5       0.95      0.92      0.93       546\n",
      "           6       0.99      1.00      0.99       501\n",
      "           7       0.96      0.94      0.95       520\n",
      "           8       0.95      0.95      0.95       574\n",
      "           9       0.96      0.83      0.89       552\n",
      "          10       1.00      1.00      1.00       525\n",
      "\n",
      "    accuracy                           0.95      5851\n",
      "   macro avg       0.96      0.96      0.96      5851\n",
      "weighted avg       0.96      0.95      0.95      5851\n",
      "\n"
     ]
    }
   ],
   "execution_count": 26
  }
 ],
 "metadata": {
  "kernelspec": {
   "display_name": "Python 3",
   "language": "python",
   "name": "python3"
  },
  "language_info": {
   "codemirror_mode": {
    "name": "ipython",
    "version": 2
   },
   "file_extension": ".py",
   "mimetype": "text/x-python",
   "name": "python",
   "nbconvert_exporter": "python",
   "pygments_lexer": "ipython2",
   "version": "2.7.6"
  }
 },
 "nbformat": 4,
 "nbformat_minor": 5
}
